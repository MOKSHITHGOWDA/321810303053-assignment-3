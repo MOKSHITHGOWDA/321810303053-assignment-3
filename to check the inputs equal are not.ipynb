{
 "cells": [
  {
   "cell_type": "code",
   "execution_count": 10,
   "metadata": {},
   "outputs": [
    {
     "name": "stdout",
     "output_type": "stream",
     "text": [
      "Enter the first number: 1\n",
      "Enter the second number: 2\n",
      "Enter the second number: 3\n",
      "all inputs are not equal\n"
     ]
    }
   ],
   "source": [
    "a = input(\"Enter the first number: \")\n",
    "b = input(\"Enter the second number: \")\n",
    "c = input(\"Enter the second number: \")\n",
    "if(a==b and b==c and c==a):\n",
    "    print(\"all are equal\")\n",
    "elif(a==b or b==c or c==a):\n",
    "    print(\"two numbers are equal\")\n",
    "else:\n",
    "    print(\"all inputs are not equal\")"
   ]
  },
  {
   "cell_type": "code",
   "execution_count": null,
   "metadata": {},
   "outputs": [],
   "source": []
  }
 ],
 "metadata": {
  "kernelspec": {
   "display_name": "Python 3",
   "language": "python",
   "name": "python3"
  },
  "language_info": {
   "codemirror_mode": {
    "name": "ipython",
    "version": 3
   },
   "file_extension": ".py",
   "mimetype": "text/x-python",
   "name": "python",
   "nbconvert_exporter": "python",
   "pygments_lexer": "ipython3",
   "version": "3.7.6"
  }
 },
 "nbformat": 4,
 "nbformat_minor": 4
}
